{
 "cells": [
  {
   "cell_type": "code",
   "execution_count": 1,
   "metadata": {},
   "outputs": [
    {
     "ename": "KeyboardInterrupt",
     "evalue": "",
     "output_type": "error",
     "traceback": [
      "\u001b[0;31m---------------------------------------------------------------------------\u001b[0m",
      "\u001b[0;31mKeyboardInterrupt\u001b[0m                         Traceback (most recent call last)",
      "\u001b[1;32m/home/chirag/INMC_Project/avalanche.ipynb Cell 1\u001b[0m line \u001b[0;36m8\n\u001b[1;32m     <a href='vscode-notebook-cell://ssh-remote%2Bbccl/home/chirag/INMC_Project/avalanche.ipynb#W0sdnNjb2RlLXJlbW90ZQ%3D%3D?line=85'>86</a>\u001b[0m cmax \u001b[39m=\u001b[39m \u001b[39m1000000\u001b[39m\n\u001b[1;32m     <a href='vscode-notebook-cell://ssh-remote%2Bbccl/home/chirag/INMC_Project/avalanche.ipynb#W0sdnNjb2RlLXJlbW90ZQ%3D%3D?line=86'>87</a>\u001b[0m \u001b[39mwhile\u001b[39;00m \u001b[39mTrue\u001b[39;00m:\n\u001b[0;32m---> <a href='vscode-notebook-cell://ssh-remote%2Bbccl/home/chirag/INMC_Project/avalanche.ipynb#W0sdnNjb2RlLXJlbW90ZQ%3D%3D?line=87'>88</a>\u001b[0m     nhit \u001b[39m=\u001b[39m X\u001b[39m.\u001b[39;49mdinamica(delta)\n\u001b[1;32m     <a href='vscode-notebook-cell://ssh-remote%2Bbccl/home/chirag/INMC_Project/avalanche.ipynb#W0sdnNjb2RlLXJlbW90ZQ%3D%3D?line=88'>89</a>\u001b[0m     \u001b[39mif\u001b[39;00m nhit \u001b[39m==\u001b[39m \u001b[39m0\u001b[39m:\n\u001b[1;32m     <a href='vscode-notebook-cell://ssh-remote%2Bbccl/home/chirag/INMC_Project/avalanche.ipynb#W0sdnNjb2RlLXJlbW90ZQ%3D%3D?line=89'>90</a>\u001b[0m         \u001b[39mif\u001b[39;00m n \u001b[39m>\u001b[39m \u001b[39m0\u001b[39m:\n",
      "\u001b[1;32m/home/chirag/INMC_Project/avalanche.ipynb Cell 1\u001b[0m line \u001b[0;36m4\n\u001b[1;32m     <a href='vscode-notebook-cell://ssh-remote%2Bbccl/home/chirag/INMC_Project/avalanche.ipynb#W0sdnNjb2RlLXJlbW90ZQ%3D%3D?line=45'>46</a>\u001b[0m rse \u001b[39m=\u001b[39m \u001b[39mself\u001b[39m\u001b[39m.\u001b[39mk \u001b[39m*\u001b[39m \u001b[39mself\u001b[39m\u001b[39m.\u001b[39malpha  \u001b[39m# total deactivation rate excitatory\u001b[39;00m\n\u001b[1;32m     <a href='vscode-notebook-cell://ssh-remote%2Bbccl/home/chirag/INMC_Project/avalanche.ipynb#W0sdnNjb2RlLXJlbW90ZQ%3D%3D?line=46'>47</a>\u001b[0m rsi \u001b[39m=\u001b[39m \u001b[39mself\u001b[39m\u001b[39m.\u001b[39ml \u001b[39m*\u001b[39m \u001b[39mself\u001b[39m\u001b[39m.\u001b[39malpha  \u001b[39m# total deactivation rate inhibitory\u001b[39;00m\n\u001b[0;32m---> <a href='vscode-notebook-cell://ssh-remote%2Bbccl/home/chirag/INMC_Project/avalanche.ipynb#W0sdnNjb2RlLXJlbW90ZQ%3D%3D?line=47'>48</a>\u001b[0m rtot \u001b[39m=\u001b[39m rae \u001b[39m+\u001b[39;49m rai \u001b[39m+\u001b[39;49m rse \u001b[39m+\u001b[39;49m rsi\n\u001b[1;32m     <a href='vscode-notebook-cell://ssh-remote%2Bbccl/home/chirag/INMC_Project/avalanche.ipynb#W0sdnNjb2RlLXJlbW90ZQ%3D%3D?line=48'>49</a>\u001b[0m dt \u001b[39m=\u001b[39m \u001b[39m-\u001b[39mmath\u001b[39m.\u001b[39mlog((\u001b[39m1.0\u001b[39m \u001b[39m+\u001b[39m random\u001b[39m.\u001b[39mrandom()) \u001b[39m/\u001b[39m (\u001b[39m2.0\u001b[39m \u001b[39m+\u001b[39m random\u001b[39m.\u001b[39mrandom())) \u001b[39m/\u001b[39m rtot\n\u001b[1;32m     <a href='vscode-notebook-cell://ssh-remote%2Bbccl/home/chirag/INMC_Project/avalanche.ipynb#W0sdnNjb2RlLXJlbW90ZQ%3D%3D?line=49'>50</a>\u001b[0m \u001b[39mif\u001b[39;00m t \u001b[39m+\u001b[39m dt \u001b[39m>\u001b[39m step:\n",
      "\u001b[0;31mKeyboardInterrupt\u001b[0m: "
     ]
    }
   ],
   "source": [
    "import math\n",
    "import random\n",
    "\n",
    "class Cowan:\n",
    "    def __init__(self, Ne, Ni, ws, w0, h, alpha, beta):\n",
    "        self.Ne = Ne\n",
    "        self.Ni = Ni\n",
    "        self.h = h\n",
    "        self.w0 = w0\n",
    "        self.ws = ws\n",
    "        self.alpha = alpha\n",
    "        self.beta = beta\n",
    "        self.wee = (ws + w0) / 2\n",
    "        self.wei = (ws + w0) / 2\n",
    "        self.wie = (ws - w0) / 2\n",
    "        self.wii = (ws - w0) / 2\n",
    "        self.k = int(Ne * self.fsigma())\n",
    "        self.l = int(Ni * self.fsigma())\n",
    "\n",
    "    def fsigma(self):\n",
    "        s1 = 0\n",
    "        s2 = 1\n",
    "        while abs(s2 - s1) > 1e-12:\n",
    "            sm = (s1 + s2) / 2\n",
    "            s = self.w0 * sm + self.h\n",
    "            rate = (0 if s <= 0 else self.beta * math.tanh(s))\n",
    "            ftmp = (1 - sm) * rate - self.alpha * sm\n",
    "            if ftmp < 0:\n",
    "                s2 = sm\n",
    "            else:\n",
    "                s1 = sm\n",
    "        return (s1 + s2) / 2\n",
    "\n",
    "    def dinamica(self, step):\n",
    "        nhit = 0\n",
    "        t = 0\n",
    "        while t < step:\n",
    "            x = self.k / self.Ne\n",
    "            y = self.l / self.Ni\n",
    "            se = self.wee * x - self.wei * y + self.h\n",
    "            si = self.wie * x - self.wii * y + self.h\n",
    "            fe = max(0, self.beta * math.tanh(se))  # activation rate excitatory neurons\n",
    "            fi = max(0, self.beta * math.tanh(si))  # activation rate inhibitory neurons\n",
    "            rae = (self.Ne - self.k) * fe  # total activation rate excitatory\n",
    "            rai = (self.Ni - self.l) * fi  # total activation rate inhibitory\n",
    "            rse = self.k * self.alpha  # total deactivation rate excitatory\n",
    "            rsi = self.l * self.alpha  # total deactivation rate inhibitory\n",
    "            rtot = rae + rai + rse + rsi\n",
    "            dt = -math.log((1.0 + random.random()) / (2.0 + random.random())) / rtot\n",
    "            if t + dt > step:\n",
    "                break\n",
    "            t += dt\n",
    "            xtmp = rtot * (1.0 + random.random()) / (2.0 + random.random())\n",
    "            if xtmp < rae:\n",
    "                self.k += 1\n",
    "                nhit += 1\n",
    "            elif xtmp < rae + rai:\n",
    "                self.l += 1\n",
    "                nhit += 1\n",
    "            elif xtmp < rae + rai + rse:\n",
    "                self.k -= 1\n",
    "            else:\n",
    "                self.l -= 1\n",
    "        return nhit\n",
    "\n",
    "if __name__ == \"__main__\":\n",
    "    w0 = 0.1# 1,0.2,0.1\n",
    "    h = 1e-6\n",
    "    N = 1000\n",
    "    delta = 0.16\n",
    "    ws = 13.8\n",
    "    alpha = 0.1\n",
    "    beta = 1\n",
    "    xin = 0.5\n",
    "    Ne = N\n",
    "    Ni = int(round(xin * N / (1 - xin)))\n",
    "    X = Cowan(Ne, Ni, ws, w0, h, alpha, beta)\n",
    "\n",
    "\n",
    "    stmp = 0\n",
    "    n = 0\n",
    "    stmp_arr = []\n",
    "    n_arr = []\n",
    "    count = 0\n",
    "    cmin = 10000\n",
    "    cmax = 1000000\n",
    "    while True:\n",
    "        nhit = X.dinamica(delta)\n",
    "        if nhit == 0:\n",
    "            if n > 0:\n",
    "                count += 1\n",
    "                if count > cmin:\n",
    "                    # print(f\"{n:12} {stmp:12}\")\n",
    "                    stmp_arr.append(stmp)\n",
    "                    n_arr.append(n)\n",
    "                if count >= cmax:\n",
    "                    break\n",
    "                stmp = 0\n",
    "                n = 0\n",
    "        else:\n",
    "            stmp += nhit\n",
    "            n += 1"
   ]
  },
  {
   "cell_type": "code",
   "execution_count": 2,
   "metadata": {},
   "outputs": [
    {
     "data": {
      "image/png": "[encoded data removed]",
      "text/plain": [
       "<Figure size 640x480 with 1 Axes>"
      ]
     },
     "metadata": {},
     "output_type": "display_data"
    }
   ],
   "source": [
    "import matplotlib.pyplot as plt\n",
    "plt.plot(n_arr, stmp_arr, '.')\n",
    "plt.xlabel('n')\n",
    "plt.ylabel('s')\n",
    "plt.show()"
   ]
  },
  {
   "cell_type": "code",
   "execution_count": null,
   "metadata": {},
   "outputs": [],
   "source": []
  }
 ],
 "metadata": {
  "kernelspec": {
   "display_name": "pyriemann",
   "language": "python",
   "name": "python3"
  },
  "language_info": {
   "codemirror_mode": {
    "name": "ipython",
    "version": 3
   },
   "file_extension": ".py",
   "mimetype": "text/x-python",
   "name": "python",
   "nbconvert_exporter": "python",
   "pygments_lexer": "ipython3",
   "version": "3.8.16"
  }
 },
 "nbformat": 4,
 "nbformat_minor": 2
}
